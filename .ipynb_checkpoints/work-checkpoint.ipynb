{
 "cells": [
  {
   "cell_type": "code",
   "execution_count": 1,
   "id": "4ec8af14-41ae-42bb-8357-48bf9fdb1fa4",
   "metadata": {},
   "outputs": [
    {
     "name": "stdout",
     "output_type": "stream",
     "text": [
      "Columns in gossipcop_fake.csv:\n",
      "['id', 'news_url', 'title', 'tweet_ids']\n",
      "--------------------------------------------------\n",
      "Columns in gossipcop_real.csv:\n",
      "['id', 'news_url', 'title', 'tweet_ids']\n",
      "--------------------------------------------------\n",
      "Columns in politifact_fake.csv:\n",
      "['id', 'news_url', 'title', 'tweet_ids']\n",
      "--------------------------------------------------\n",
      "Columns in politifact_real.csv:\n",
      "['id', 'news_url', 'title', 'tweet_ids']\n",
      "--------------------------------------------------\n"
     ]
    }
   ],
   "source": [
    "import pandas as pd\n",
    "\n",
    "# List of dataset paths\n",
    "datasets = [\n",
    "    r\"c:\\Users\\anwes\\Desktop\\FakeNews\\data\\raw\\fakenewsnet\\gossipcop_fake.csv\",\n",
    "    r\"c:\\Users\\anwes\\Desktop\\FakeNews\\data\\raw\\fakenewsnet\\gossipcop_real.csv\",\n",
    "    r\"c:\\Users\\anwes\\Desktop\\FakeNews\\data\\raw\\fakenewsnet\\politifact_fake.csv\",\n",
    "    r\"c:\\Users\\anwes\\Desktop\\FakeNews\\data\\raw\\fakenewsnet\\politifact_real.csv\"\n",
    "]\n",
    "\n",
    "# Loop through each dataset and print its columns\n",
    "for path in datasets:\n",
    "    df = pd.read_csv(path)\n",
    "    print(f\"Columns in {path.split('\\\\')[-1]}:\")\n",
    "    print(df.columns.tolist())\n",
    "    print(\"-\" * 50)\n"
   ]
  },
  {
   "cell_type": "code",
   "execution_count": 2,
   "id": "1eb1bbd1-70fd-4463-a024-455f54de7791",
   "metadata": {},
   "outputs": [
    {
     "name": "stdout",
     "output_type": "stream",
     "text": [
      "                                               title  label\n",
      "0  did miley cyrus and liam hemsworth secretly ge...      0\n",
      "1  paris jackson  cara delevingne enjoy night out...      0\n",
      "2  celebrities join tax march in protest of donal...      0\n",
      "3  cindy crawfords daughter kaia gerber wears a w...      0\n",
      "4       full list of 2018 oscar nominations  variety      0\n",
      "Total samples: 23196\n"
     ]
    }
   ],
   "source": [
    "import pandas as pd\n",
    "import re\n",
    "\n",
    "# Function to clean text\n",
    "def clean_text(text):\n",
    "    text = str(text)  # Ensure it's a string\n",
    "    text = text.lower()  # Convert to lowercase\n",
    "    text = re.sub(r\"\\s+\", \" \", text).strip()  # Remove extra whitespace\n",
    "    text = re.sub(r\"[^a-zA-Z0-9\\s]\", \"\", text)  # Remove special characters\n",
    "    return text\n",
    "\n",
    "# Paths to datasets\n",
    "datasets = {\n",
    "    \"gossipcop_fake\": r\"c:\\Users\\anwes\\Desktop\\FakeNews\\data\\raw\\fakenewsnet\\gossipcop_fake.csv\",\n",
    "    \"gossipcop_real\": r\"c:\\Users\\anwes\\Desktop\\FakeNews\\data\\raw\\fakenewsnet\\gossipcop_real.csv\",\n",
    "    \"politifact_fake\": r\"c:\\Users\\anwes\\Desktop\\FakeNews\\data\\raw\\fakenewsnet\\politifact_fake.csv\",\n",
    "    \"politifact_real\": r\"c:\\Users\\anwes\\Desktop\\FakeNews\\data\\raw\\fakenewsnet\\politifact_real.csv\"\n",
    "}\n",
    "\n",
    "# Load and preprocess datasets\n",
    "all_dfs = []\n",
    "for label, path in datasets.items():\n",
    "    df = pd.read_csv(path)\n",
    "    df['title'] = df['title'].apply(clean_text)  # Clean the title column\n",
    "    # Add a new column for the label: 0=fake, 1=real\n",
    "    if \"fake\" in label:\n",
    "        df['label'] = 0\n",
    "    else:\n",
    "        df['label'] = 1\n",
    "    all_dfs.append(df[['title', 'label']])  # Keep only relevant columns\n",
    "\n",
    "# Combine all datasets\n",
    "combined_df = pd.concat(all_dfs, ignore_index=True)\n",
    "print(combined_df.head())\n",
    "print(f\"Total samples: {len(combined_df)}\")\n"
   ]
  },
  {
   "cell_type": "code",
   "execution_count": 3,
   "id": "b944a86b-c965-4ea6-9fff-109635741bf2",
   "metadata": {},
   "outputs": [
    {
     "name": "stdout",
     "output_type": "stream",
     "text": [
      "                                                text  label\n",
      "0  down drive adult in join respond important res...      0\n",
      "1  kathie lee brings crowd to tears with speech a...      1\n",
      "2  agent outside possible institution enjoy serio...      0\n",
      "3                                         barelytrue      1\n",
      "4          situation syria regional refugee response      1\n",
      "Total samples: 55987\n",
      "label\n",
      "1    30232\n",
      "0    25755\n",
      "Name: count, dtype: int64\n"
     ]
    }
   ],
   "source": [
    "# Jupyter Notebook: Combine Fake News Datasets\n",
    "\n",
    "import pandas as pd\n",
    "import re\n",
    "\n",
    "# Function to clean text\n",
    "def clean_text(text):\n",
    "    text = str(text).lower()\n",
    "    text = re.sub(r\"\\s+\", \" \", text).strip()\n",
    "    text = re.sub(r\"[^a-zA-Z0-9\\s]\", \"\", text)\n",
    "    return text\n",
    "\n",
    "# =====================\n",
    "# Paths to datasets\n",
    "# =====================\n",
    "paths = {\n",
    "    \"fakenewsnet\": {\n",
    "        \"gossipcop_fake\": r\"c:\\Users\\anwes\\Desktop\\FakeNews\\data\\raw\\fakenewsnet\\gossipcop_fake.csv\",\n",
    "        \"gossipcop_real\": r\"c:\\Users\\anwes\\Desktop\\FakeNews\\data\\raw\\fakenewsnet\\gossipcop_real.csv\",\n",
    "        \"politifact_fake\": r\"c:\\Users\\anwes\\Desktop\\FakeNews\\data\\raw\\fakenewsnet\\politifact_fake.csv\",\n",
    "        \"politifact_real\": r\"c:\\Users\\anwes\\Desktop\\FakeNews\\data\\raw\\fakenewsnet\\politifact_real.csv\"\n",
    "    },\n",
    "    \"kaggle\": r\"c:\\Users\\anwes\\Desktop\\FakeNews\\data\\raw\\kaggle\\fake_news_dataset.csv\",\n",
    "    \"liar\": {\n",
    "        \"train\": r\"c:\\Users\\anwes\\Desktop\\FakeNews\\data\\raw\\liar\\train.tsv\",\n",
    "        \"valid\": r\"c:\\Users\\anwes\\Desktop\\FakeNews\\data\\raw\\liar\\valid.tsv\",\n",
    "        \"test\": r\"c:\\Users\\anwes\\Desktop\\FakeNews\\data\\raw\\liar\\test.tsv\"\n",
    "    }\n",
    "}\n",
    "\n",
    "# =====================\n",
    "# Load FakeNewsNet datasets\n",
    "# =====================\n",
    "all_dfs = []\n",
    "for label, path in paths['fakenewsnet'].items():\n",
    "    df = pd.read_csv(path)\n",
    "    df['title'] = df['title'].apply(clean_text)\n",
    "    df['label'] = 0 if 'fake' in label else 1\n",
    "    all_dfs.append(df[['title', 'label']].rename(columns={'title':'text'}))\n",
    "\n",
    "# =====================\n",
    "# Load Kaggle dataset\n",
    "# =====================\n",
    "kaggle_df = pd.read_csv(paths['kaggle'])\n",
    "# Kaggle dataset columns: 'title', 'text', 'label' (assuming standard)\n",
    "kaggle_df['text'] = kaggle_df['text'].apply(clean_text)\n",
    "kaggle_df['label'] = kaggle_df['label'].apply(lambda x: 1 if x==\"REAL\" or x==1 else 0)\n",
    "all_dfs.append(kaggle_df[['text','label']])\n",
    "\n",
    "# =====================\n",
    "# Load LIAR datasets\n",
    "# =====================\n",
    "liar_dfs = []\n",
    "for split, path in paths['liar'].items():\n",
    "    df = pd.read_csv(path, sep='\\t', header=None)\n",
    "    # LIAR columns: ['label','statement','subject','speaker','job','state','party','barely_true','false','pants_fire', etc.]\n",
    "    df.columns = ['label','statement','subject','speaker','job','state','party','barely_true','false','half_true','mostly_true','pants_on_fire'] + [f'extra{i}' for i in range(df.shape[1]-12)]\n",
    "    # We'll use 'statement' as text\n",
    "    df['text'] = df['statement'].apply(clean_text)\n",
    "    # Map LIAR labels to 0=fake, 1=real\n",
    "    fake_labels = ['pants_on_fire', 'false', 'barely_true']\n",
    "    real_labels = ['half_true','mostly_true']\n",
    "    df['label'] = df['label'].apply(lambda x: 0 if x in fake_labels else 1)\n",
    "    liar_dfs.append(df[['text','label']])\n",
    "all_dfs.extend(liar_dfs)\n",
    "\n",
    "# =====================\n",
    "# Combine all datasets\n",
    "# =====================\n",
    "combined_df = pd.concat(all_dfs, ignore_index=True)\n",
    "\n",
    "# Shuffle dataset\n",
    "combined_df = combined_df.sample(frac=1, random_state=42).reset_index(drop=True)\n",
    "\n",
    "# =====================\n",
    "# Explore dataset\n",
    "# =====================\n",
    "print(combined_df.head())\n",
    "print(f\"Total samples: {len(combined_df)}\")\n",
    "print(combined_df['label'].value_counts())\n",
    "\n"
   ]
  },
  {
   "cell_type": "code",
   "execution_count": 4,
   "id": "9a51289f-9de6-4f67-9dc7-6c9aa2b87110",
   "metadata": {},
   "outputs": [
    {
     "name": "stdout",
     "output_type": "stream",
     "text": [
      "Combined dataset saved successfully!\n"
     ]
    }
   ],
   "source": [
    "# Save the combined dataset\n",
    "combined_df.to_csv(r\"c:\\Users\\anwes\\Desktop\\FakeNews\\data\\combined_dataset.csv\", index=False)\n",
    "print(\"Combined dataset saved successfully!\")\n"
   ]
  },
  {
   "cell_type": "code",
   "execution_count": 5,
   "id": "9b15fc18-62bf-44df-b2a8-1fce0fe38e5d",
   "metadata": {},
   "outputs": [
    {
     "name": "stdout",
     "output_type": "stream",
     "text": [
      "                                                text  label\n",
      "0  down drive adult in join respond important res...      0\n",
      "1  kathie lee brings crowd to tears with speech a...      1\n",
      "2  agent outside possible institution enjoy serio...      0\n",
      "3                                         barelytrue      1\n",
      "4          situation syria regional refugee response      1\n",
      "Total samples: 55987\n",
      "label\n",
      "1    30232\n",
      "0    25755\n",
      "Name: count, dtype: int64\n"
     ]
    }
   ],
   "source": [
    "import pandas as pd\n",
    "\n",
    "# Load the combined dataset\n",
    "df = pd.read_csv(r\"c:\\Users\\anwes\\Desktop\\FakeNews\\data\\combined_dataset.csv\")\n",
    "print(df.head())\n",
    "print(f\"Total samples: {len(df)}\")\n",
    "print(df['label'].value_counts())\n"
   ]
  },
  {
   "cell_type": "code",
   "execution_count": 6,
   "id": "e0777cf3-cf06-4b53-bd04-e10909d06e5a",
   "metadata": {},
   "outputs": [
    {
     "name": "stdout",
     "output_type": "stream",
     "text": [
      "Index(['text', 'label'], dtype='object')\n"
     ]
    }
   ],
   "source": [
    "print(df.columns)\n"
   ]
  },
  {
   "cell_type": "code",
   "execution_count": 7,
   "id": "2ab6af55-7336-45aa-b97b-b8c5d38f9acb",
   "metadata": {},
   "outputs": [
    {
     "name": "stdout",
     "output_type": "stream",
     "text": [
      "                                                text  label  \\\n",
      "0  down drive adult in join respond important res...      0   \n",
      "1  kathie lee brings crowd to tears with speech a...      1   \n",
      "2  agent outside possible institution enjoy serio...      0   \n",
      "3                                         barelytrue      1   \n",
      "4          situation syria regional refugee response      1   \n",
      "\n",
      "                                          text_clean  \n",
      "0  down drive adult in join respond important res...  \n",
      "1  kathie lee brings crowd to tears with speech a...  \n",
      "2  agent outside possible institution enjoy serio...  \n",
      "3                                         barelytrue  \n",
      "4          situation syria regional refugee response  \n",
      "Total samples: 55987\n",
      "label\n",
      "1    30232\n",
      "0    25755\n",
      "Name: count, dtype: int64\n",
      "Index(['text', 'label', 'text_clean'], dtype='object')\n"
     ]
    }
   ],
   "source": [
    "import pandas as pd\n",
    "import re\n",
    "\n",
    "# Load combined dataset\n",
    "df = pd.read_csv(r\"c:\\Users\\anwes\\Desktop\\FakeNews\\data\\combined_dataset.csv\")\n",
    "\n",
    "# Function to clean text\n",
    "def clean_text(text):\n",
    "    text = str(text).lower()                     # convert to lowercase\n",
    "    text = re.sub(r\"\\s+\", \" \", text).strip()    # remove extra whitespace\n",
    "    text = re.sub(r\"[^a-z0-9\\s]\", \"\", text)     # remove special characters\n",
    "    return text\n",
    "\n",
    "# Apply cleaning\n",
    "df['text_clean'] = df['text'].apply(clean_text)\n",
    "\n",
    "# Check cleaned data\n",
    "print(df.head())\n",
    "print(f\"Total samples: {len(df)}\")\n",
    "print(df['label'].value_counts())\n",
    "print(df.columns)\n"
   ]
  },
  {
   "cell_type": "code",
   "execution_count": 8,
   "id": "2f04797c-0492-4b77-9cdf-30ee68ff63c6",
   "metadata": {},
   "outputs": [
    {
     "name": "stdout",
     "output_type": "stream",
     "text": [
      "Training data shape: (44789, 5000)\n",
      "Test data shape: (11198, 5000)\n",
      "Training labels distribution:\n",
      "label\n",
      "1    24185\n",
      "0    20604\n",
      "Name: count, dtype: int64\n",
      "Test labels distribution:\n",
      "label\n",
      "1    6047\n",
      "0    5151\n",
      "Name: count, dtype: int64\n",
      "Index(['text', 'label', 'text_clean'], dtype='object')\n"
     ]
    }
   ],
   "source": [
    "# Import libraries\n",
    "import pandas as pd\n",
    "import re\n",
    "from sklearn.model_selection import train_test_split\n",
    "from sklearn.feature_extraction.text import TfidfVectorizer\n",
    "\n",
    "# Load combined dataset\n",
    "df = pd.read_csv(r\"c:\\Users\\anwes\\Desktop\\FakeNews\\data\\combined_dataset.csv\")\n",
    "\n",
    "# Check columns\n",
    "#print(df.columns)\n",
    "#print(df.head())\n",
    "\n",
    "# Function to clean text\n",
    "def clean_text(text):\n",
    "    text = str(text).lower()                     # convert to lowercase\n",
    "    text = re.sub(r\"\\s+\", \" \", text).strip()    # remove extra whitespace\n",
    "    text = re.sub(r\"[^a-z0-9\\s]\", \"\", text)     # remove special characters\n",
    "    return text\n",
    "\n",
    "# Apply cleaning\n",
    "df['text_clean'] = df['text'].apply(clean_text)\n",
    "\n",
    "# Train-test split (80% train, 20% test)\n",
    "X_train, X_test, y_train, y_test = train_test_split(\n",
    "    df['text_clean'], df['label'], test_size=0.2, random_state=42, stratify=df['label']\n",
    ")\n",
    "\n",
    "# TF-IDF Vectorization\n",
    "tfidf = TfidfVectorizer(max_features=5000, ngram_range=(1,2))\n",
    "X_train_tfidf = tfidf.fit_transform(X_train)\n",
    "X_test_tfidf = tfidf.transform(X_test)\n",
    "\n",
    "# Check shapes\n",
    "print(f\"Training data shape: {X_train_tfidf.shape}\")\n",
    "print(f\"Test data shape: {X_test_tfidf.shape}\")\n",
    "print(f\"Training labels distribution:\\n{y_train.value_counts()}\")\n",
    "print(f\"Test labels distribution:\\n{y_test.value_counts()}\")\n",
    "print(df.columns)\n"
   ]
  },
  {
   "cell_type": "code",
   "execution_count": 9,
   "id": "5aeee6bb-b7ea-4b9b-9770-fcec92a697a7",
   "metadata": {},
   "outputs": [
    {
     "name": "stdout",
     "output_type": "stream",
     "text": [
      "Accuracy: 0.9345\n",
      "\n",
      "Confusion Matrix:\n",
      "[[4554  597]\n",
      " [ 136 5911]]\n",
      "\n",
      "Classification Report:\n",
      "              precision    recall  f1-score   support\n",
      "\n",
      "           0       0.97      0.88      0.93      5151\n",
      "           1       0.91      0.98      0.94      6047\n",
      "\n",
      "    accuracy                           0.93     11198\n",
      "   macro avg       0.94      0.93      0.93     11198\n",
      "weighted avg       0.94      0.93      0.93     11198\n",
      "\n"
     ]
    }
   ],
   "source": [
    "# Import libraries\n",
    "import pandas as pd\n",
    "import re\n",
    "from sklearn.model_selection import train_test_split\n",
    "from sklearn.feature_extraction.text import TfidfVectorizer\n",
    "from sklearn.linear_model import LogisticRegression\n",
    "from sklearn.metrics import accuracy_score, confusion_matrix, classification_report\n",
    "\n",
    "# Load combined dataset\n",
    "df = pd.read_csv(r\"c:\\Users\\anwes\\Desktop\\FakeNews\\data\\combined_dataset.csv\")\n",
    "\n",
    "# Clean text function\n",
    "def clean_text(text):\n",
    "    text = str(text).lower()\n",
    "    text = re.sub(r\"\\s+\", \" \", text).strip()\n",
    "    text = re.sub(r\"[^a-z0-9\\s]\", \"\", text)\n",
    "    return text\n",
    "\n",
    "# Apply text cleaning\n",
    "df['text_clean'] = df['text'].apply(clean_text)\n",
    "\n",
    "# Train-test split (stratified)\n",
    "X_train, X_test, y_train, y_test = train_test_split(\n",
    "    df['text_clean'], df['label'], test_size=0.2, random_state=42, stratify=df['label']\n",
    ")\n",
    "\n",
    "# TF-IDF Vectorization\n",
    "tfidf = TfidfVectorizer(max_features=5000, ngram_range=(1,2))\n",
    "X_train_tfidf = tfidf.fit_transform(X_train)\n",
    "X_test_tfidf = tfidf.transform(X_test)\n",
    "\n",
    "# Initialize and train Logistic Regression model\n",
    "model = LogisticRegression(max_iter=1000)\n",
    "model.fit(X_train_tfidf, y_train)\n",
    "\n",
    "# Make predictions\n",
    "y_pred = model.predict(X_test_tfidf)\n",
    "\n",
    "# Evaluation\n",
    "acc = accuracy_score(y_test, y_pred)\n",
    "cm = confusion_matrix(y_test, y_pred)\n",
    "report = classification_report(y_test, y_pred)\n",
    "\n",
    "print(f\"Accuracy: {acc:.4f}\\n\")\n",
    "print(\"Confusion Matrix:\")\n",
    "print(cm)\n",
    "print(\"\\nClassification Report:\")\n",
    "print(report)\n"
   ]
  },
  {
   "cell_type": "code",
   "execution_count": 10,
   "id": "e08e59c2-5bcc-45ef-b1ec-0a2674725d01",
   "metadata": {},
   "outputs": [
    {
     "name": "stdout",
     "output_type": "stream",
     "text": [
      "Index(['text', 'label', 'text_clean'], dtype='object')\n"
     ]
    }
   ],
   "source": [
    "df.shape         # Number of rows and columns\n",
    "print(df.columns)\n"
   ]
  },
  {
   "cell_type": "code",
   "execution_count": 11,
   "id": "c5bf9176-dc2b-49e9-a95b-65e7f59b4e2c",
   "metadata": {},
   "outputs": [
    {
     "name": "stdout",
     "output_type": "stream",
     "text": [
      "<class 'pandas.core.frame.DataFrame'>\n",
      "RangeIndex: 55987 entries, 0 to 55986\n",
      "Data columns (total 3 columns):\n",
      " #   Column      Non-Null Count  Dtype \n",
      "---  ------      --------------  ----- \n",
      " 0   text        55985 non-null  object\n",
      " 1   label       55987 non-null  int64 \n",
      " 2   text_clean  55987 non-null  object\n",
      "dtypes: int64(1), object(2)\n",
      "memory usage: 1.3+ MB\n"
     ]
    }
   ],
   "source": [
    "df.info()        # Column types, non-null counts \n"
   ]
  },
  {
   "cell_type": "code",
   "execution_count": 12,
   "id": "504f8dfc-79e0-443d-af83-91f04c536bfb",
   "metadata": {},
   "outputs": [
    {
     "data": {
      "text/html": [
       "<div>\n",
       "<style scoped>\n",
       "    .dataframe tbody tr th:only-of-type {\n",
       "        vertical-align: middle;\n",
       "    }\n",
       "\n",
       "    .dataframe tbody tr th {\n",
       "        vertical-align: top;\n",
       "    }\n",
       "\n",
       "    .dataframe thead th {\n",
       "        text-align: right;\n",
       "    }\n",
       "</style>\n",
       "<table border=\"1\" class=\"dataframe\">\n",
       "  <thead>\n",
       "    <tr style=\"text-align: right;\">\n",
       "      <th></th>\n",
       "      <th>text</th>\n",
       "      <th>label</th>\n",
       "      <th>text_clean</th>\n",
       "    </tr>\n",
       "  </thead>\n",
       "  <tbody>\n",
       "    <tr>\n",
       "      <th>0</th>\n",
       "      <td>down drive adult in join respond important res...</td>\n",
       "      <td>0</td>\n",
       "      <td>down drive adult in join respond important res...</td>\n",
       "    </tr>\n",
       "    <tr>\n",
       "      <th>1</th>\n",
       "      <td>kathie lee brings crowd to tears with speech a...</td>\n",
       "      <td>1</td>\n",
       "      <td>kathie lee brings crowd to tears with speech a...</td>\n",
       "    </tr>\n",
       "    <tr>\n",
       "      <th>2</th>\n",
       "      <td>agent outside possible institution enjoy serio...</td>\n",
       "      <td>0</td>\n",
       "      <td>agent outside possible institution enjoy serio...</td>\n",
       "    </tr>\n",
       "    <tr>\n",
       "      <th>3</th>\n",
       "      <td>barelytrue</td>\n",
       "      <td>1</td>\n",
       "      <td>barelytrue</td>\n",
       "    </tr>\n",
       "    <tr>\n",
       "      <th>4</th>\n",
       "      <td>situation syria regional refugee response</td>\n",
       "      <td>1</td>\n",
       "      <td>situation syria regional refugee response</td>\n",
       "    </tr>\n",
       "  </tbody>\n",
       "</table>\n",
       "</div>"
      ],
      "text/plain": [
       "                                                text  label  \\\n",
       "0  down drive adult in join respond important res...      0   \n",
       "1  kathie lee brings crowd to tears with speech a...      1   \n",
       "2  agent outside possible institution enjoy serio...      0   \n",
       "3                                         barelytrue      1   \n",
       "4          situation syria regional refugee response      1   \n",
       "\n",
       "                                          text_clean  \n",
       "0  down drive adult in join respond important res...  \n",
       "1  kathie lee brings crowd to tears with speech a...  \n",
       "2  agent outside possible institution enjoy serio...  \n",
       "3                                         barelytrue  \n",
       "4          situation syria regional refugee response  "
      ]
     },
     "execution_count": 12,
     "metadata": {},
     "output_type": "execute_result"
    }
   ],
   "source": [
    "df.head()        # First 5 rows"
   ]
  },
  {
   "cell_type": "code",
   "execution_count": 13,
   "id": "684f4694-af4b-4b58-b151-f7e97ae528f1",
   "metadata": {},
   "outputs": [
    {
     "data": {
      "text/html": [
       "<div>\n",
       "<style scoped>\n",
       "    .dataframe tbody tr th:only-of-type {\n",
       "        vertical-align: middle;\n",
       "    }\n",
       "\n",
       "    .dataframe tbody tr th {\n",
       "        vertical-align: top;\n",
       "    }\n",
       "\n",
       "    .dataframe thead th {\n",
       "        text-align: right;\n",
       "    }\n",
       "</style>\n",
       "<table border=\"1\" class=\"dataframe\">\n",
       "  <thead>\n",
       "    <tr style=\"text-align: right;\">\n",
       "      <th></th>\n",
       "      <th>text</th>\n",
       "      <th>label</th>\n",
       "      <th>text_clean</th>\n",
       "    </tr>\n",
       "  </thead>\n",
       "  <tbody>\n",
       "    <tr>\n",
       "      <th>55982</th>\n",
       "      <td>barelytrue</td>\n",
       "      <td>1</td>\n",
       "      <td>barelytrue</td>\n",
       "    </tr>\n",
       "    <tr>\n",
       "      <th>55983</th>\n",
       "      <td>barelytrue</td>\n",
       "      <td>1</td>\n",
       "      <td>barelytrue</td>\n",
       "    </tr>\n",
       "    <tr>\n",
       "      <th>55984</th>\n",
       "      <td>significant something middle fire owner budget...</td>\n",
       "      <td>0</td>\n",
       "      <td>significant something middle fire owner budget...</td>\n",
       "    </tr>\n",
       "    <tr>\n",
       "      <th>55985</th>\n",
       "      <td>jennifer garners trainer launched a wellness a...</td>\n",
       "      <td>0</td>\n",
       "      <td>jennifer garners trainer launched a wellness a...</td>\n",
       "    </tr>\n",
       "    <tr>\n",
       "      <th>55986</th>\n",
       "      <td>matt leblanc turned down modern family role</td>\n",
       "      <td>1</td>\n",
       "      <td>matt leblanc turned down modern family role</td>\n",
       "    </tr>\n",
       "  </tbody>\n",
       "</table>\n",
       "</div>"
      ],
      "text/plain": [
       "                                                    text  label  \\\n",
       "55982                                         barelytrue      1   \n",
       "55983                                         barelytrue      1   \n",
       "55984  significant something middle fire owner budget...      0   \n",
       "55985  jennifer garners trainer launched a wellness a...      0   \n",
       "55986        matt leblanc turned down modern family role      1   \n",
       "\n",
       "                                              text_clean  \n",
       "55982                                         barelytrue  \n",
       "55983                                         barelytrue  \n",
       "55984  significant something middle fire owner budget...  \n",
       "55985  jennifer garners trainer launched a wellness a...  \n",
       "55986        matt leblanc turned down modern family role  "
      ]
     },
     "execution_count": 13,
     "metadata": {},
     "output_type": "execute_result"
    }
   ],
   "source": [
    "df.tail()        # Last 5 rows"
   ]
  },
  {
   "cell_type": "code",
   "execution_count": 14,
   "id": "7928bd32-4a8c-4eb7-b5cc-4981f1f51f0b",
   "metadata": {},
   "outputs": [
    {
     "data": {
      "text/plain": [
       "text          0\n",
       "label         0\n",
       "text_clean    0\n",
       "dtype: int64"
      ]
     },
     "execution_count": 14,
     "metadata": {},
     "output_type": "execute_result"
    }
   ],
   "source": [
    "# Drop rows with missing text\n",
    "df = df.dropna(subset=['text']).reset_index(drop=True)\n",
    "\n",
    "# Confirm\n",
    "df.isnull().sum()\n"
   ]
  },
  {
   "cell_type": "code",
   "execution_count": 15,
   "id": "38e3a0d8-ceca-4589-8471-7d2e91352f5e",
   "metadata": {},
   "outputs": [
    {
     "data": {
      "text/plain": [
       "np.int64(14143)"
      ]
     },
     "execution_count": 15,
     "metadata": {},
     "output_type": "execute_result"
    }
   ],
   "source": [
    "df.duplicated().sum()"
   ]
  },
  {
   "cell_type": "code",
   "execution_count": 16,
   "id": "45c582f0-8e0c-40b2-9342-d3e2b416f15b",
   "metadata": {},
   "outputs": [
    {
     "name": "stdout",
     "output_type": "stream",
     "text": [
      "0\n",
      "41842\n"
     ]
    }
   ],
   "source": [
    "# Remove duplicates\n",
    "df = df.drop_duplicates()\n",
    "\n",
    "# Verify removal\n",
    "print(df.duplicated().sum())  # Should now be 0\n",
    "print(len(df))                # Updated total samples\n"
   ]
  },
  {
   "cell_type": "code",
   "execution_count": 17,
   "id": "9079cf96-e885-47c7-9ece-632ae0c5e834",
   "metadata": {},
   "outputs": [
    {
     "name": "stdout",
     "output_type": "stream",
     "text": [
      "<class 'pandas.core.frame.DataFrame'>\n",
      "Index: 41842 entries, 0 to 55984\n",
      "Data columns (total 3 columns):\n",
      " #   Column      Non-Null Count  Dtype \n",
      "---  ------      --------------  ----- \n",
      " 0   text        41842 non-null  object\n",
      " 1   label       41842 non-null  int64 \n",
      " 2   text_clean  41842 non-null  object\n",
      "dtypes: int64(1), object(2)\n",
      "memory usage: 1.3+ MB\n"
     ]
    },
    {
     "data": {
      "text/html": [
       "<div>\n",
       "<style scoped>\n",
       "    .dataframe tbody tr th:only-of-type {\n",
       "        vertical-align: middle;\n",
       "    }\n",
       "\n",
       "    .dataframe tbody tr th {\n",
       "        vertical-align: top;\n",
       "    }\n",
       "\n",
       "    .dataframe thead th {\n",
       "        text-align: right;\n",
       "    }\n",
       "</style>\n",
       "<table border=\"1\" class=\"dataframe\">\n",
       "  <thead>\n",
       "    <tr style=\"text-align: right;\">\n",
       "      <th></th>\n",
       "      <th>text</th>\n",
       "      <th>label</th>\n",
       "      <th>text_clean</th>\n",
       "    </tr>\n",
       "  </thead>\n",
       "  <tbody>\n",
       "    <tr>\n",
       "      <th>0</th>\n",
       "      <td>down drive adult in join respond important res...</td>\n",
       "      <td>0</td>\n",
       "      <td>down drive adult in join respond important res...</td>\n",
       "    </tr>\n",
       "    <tr>\n",
       "      <th>1</th>\n",
       "      <td>kathie lee brings crowd to tears with speech a...</td>\n",
       "      <td>1</td>\n",
       "      <td>kathie lee brings crowd to tears with speech a...</td>\n",
       "    </tr>\n",
       "    <tr>\n",
       "      <th>2</th>\n",
       "      <td>agent outside possible institution enjoy serio...</td>\n",
       "      <td>0</td>\n",
       "      <td>agent outside possible institution enjoy serio...</td>\n",
       "    </tr>\n",
       "    <tr>\n",
       "      <th>3</th>\n",
       "      <td>barelytrue</td>\n",
       "      <td>1</td>\n",
       "      <td>barelytrue</td>\n",
       "    </tr>\n",
       "    <tr>\n",
       "      <th>4</th>\n",
       "      <td>situation syria regional refugee response</td>\n",
       "      <td>1</td>\n",
       "      <td>situation syria regional refugee response</td>\n",
       "    </tr>\n",
       "  </tbody>\n",
       "</table>\n",
       "</div>"
      ],
      "text/plain": [
       "                                                text  label  \\\n",
       "0  down drive adult in join respond important res...      0   \n",
       "1  kathie lee brings crowd to tears with speech a...      1   \n",
       "2  agent outside possible institution enjoy serio...      0   \n",
       "3                                         barelytrue      1   \n",
       "4          situation syria regional refugee response      1   \n",
       "\n",
       "                                          text_clean  \n",
       "0  down drive adult in join respond important res...  \n",
       "1  kathie lee brings crowd to tears with speech a...  \n",
       "2  agent outside possible institution enjoy serio...  \n",
       "3                                         barelytrue  \n",
       "4          situation syria regional refugee response  "
      ]
     },
     "execution_count": 17,
     "metadata": {},
     "output_type": "execute_result"
    }
   ],
   "source": [
    "# Check basic info\n",
    "df.info()\n",
    "\n",
    "# Check first few rows\n",
    "df.head()\n"
   ]
  },
  {
   "cell_type": "code",
   "execution_count": 18,
   "id": "600d64fb-3cd7-425f-99bd-ae813ec81cd5",
   "metadata": {},
   "outputs": [
    {
     "data": {
      "text/plain": [
       "text          0\n",
       "label         0\n",
       "text_clean    0\n",
       "dtype: int64"
      ]
     },
     "execution_count": 18,
     "metadata": {},
     "output_type": "execute_result"
    }
   ],
   "source": [
    "# Count missing values\n",
    "df.isnull().sum()\n"
   ]
  },
  {
   "cell_type": "code",
   "execution_count": 19,
   "id": "12fd1bb5-0325-406a-8f2e-49a6a6546829",
   "metadata": {},
   "outputs": [
    {
     "name": "stdout",
     "output_type": "stream",
     "text": [
      "Index(['text', 'label', 'text_clean'], dtype='object')\n"
     ]
    }
   ],
   "source": [
    "df['label'].value_counts()\n",
    "\n",
    "print(df.columns)\n"
   ]
  },
  {
   "cell_type": "code",
   "execution_count": 20,
   "id": "27a5ffad-0226-440d-b33b-757698f47a77",
   "metadata": {},
   "outputs": [
    {
     "data": {
      "image/png": "[encoded data removed]",
      "text/plain": [
       "<Figure size 640x480 with 1 Axes>"
      ]
     },
     "metadata": {},
     "output_type": "display_data"
    }
   ],
   "source": [
    "import seaborn as sns\n",
    "import matplotlib.pyplot as plt\n",
    "\n",
    "sns.countplot(x='label', data=df)\n",
    "plt.xticks([0, 1], ['Fake', 'Real'])\n",
    "plt.title('Label Distribution')\n",
    "plt.show()\n"
   ]
  },
  {
   "cell_type": "code",
   "execution_count": 21,
   "id": "f5e78199-eff1-4baa-bb87-e82a2c1b7c2a",
   "metadata": {},
   "outputs": [],
   "source": [
    "df['word_count'] = df['text'].apply(lambda x: len(str(x).split()))\n",
    "df['char_count'] = df['text'].apply(lambda x: len(str(x)))\n"
   ]
  },
  {
   "cell_type": "code",
   "execution_count": 22,
   "id": "0b382ed3-4101-4bb0-b0b0-063c5ad03567",
   "metadata": {},
   "outputs": [
    {
     "name": "stdout",
     "output_type": "stream",
     "text": [
      "Index(['text', 'label', 'text_clean', 'word_count', 'char_count'], dtype='object')\n"
     ]
    }
   ],
   "source": [
    "df[['word_count', 'char_count']].describe()\n",
    "print(df.columns)\n"
   ]
  },
  {
   "cell_type": "code",
   "execution_count": 23,
   "id": "aee34097-8b45-4b93-b870-d2601d8eb29e",
   "metadata": {},
   "outputs": [
    {
     "data": {
      "image/png": "[encoded data removed]",
      "text/plain": [
       "<Figure size 640x480 with 1 Axes>"
      ]
     },
     "metadata": {},
     "output_type": "display_data"
    }
   ],
   "source": [
    "sns.histplot(df['word_count'], bins=50, kde=True)\n",
    "plt.title('Word Count Distribution')\n",
    "plt.show()\n"
   ]
  },
  {
   "cell_type": "code",
   "execution_count": 24,
   "id": "441ffdb8-6da9-4f76-b1b0-da95afa91e2d",
   "metadata": {},
   "outputs": [
    {
     "data": {
      "image/png": "[encoded data removed]",
      "text/plain": [
       "<Figure size 640x480 with 1 Axes>"
      ]
     },
     "metadata": {},
     "output_type": "display_data"
    }
   ],
   "source": [
    "sns.histplot(df['char_count'], bins=50, kde=True)\n",
    "plt.title('Character Count Distribution')\n",
    "plt.show()\n"
   ]
  },
  {
   "cell_type": "code",
   "execution_count": 25,
   "id": "ec936a5f-c9ee-41cc-8324-99793f4c66bf",
   "metadata": {},
   "outputs": [
    {
     "name": "stdout",
     "output_type": "stream",
     "text": [
      "                                          text_clean  \\\n",
      "0  down drive adult in join respond important res...   \n",
      "1  kathie lee brings crowd to tears with speech a...   \n",
      "2  agent outside possible institution enjoy serio...   \n",
      "3                                         barelytrue   \n",
      "4          situation syria regional refugee response   \n",
      "\n",
      "                                         text_nostop  \n",
      "0  drive adult join respond important research tr...  \n",
      "1          kathie lee brings crowd tears speech hoda  \n",
      "2  agent outside possible institution enjoy serio...  \n",
      "3                                         barelytrue  \n",
      "4          situation syria regional refugee response  \n"
     ]
    }
   ],
   "source": [
    "import nltk\n",
    "from nltk.corpus import stopwords\n",
    "#nltk.download(\"stopwords\")\n",
    "\n",
    "stop_words = set(stopwords.words(\"english\"))\n",
    "\n",
    "# Remove stopwords from the already cleaned text\n",
    "df['text_nostop'] = df['text_clean'].apply(\n",
    "    lambda x: \" \".join([w for w in str(x).split() if w not in stop_words])\n",
    ")\n",
    "\n",
    "print(df[['text_clean','text_nostop']].head())\n"
   ]
  },
  {
   "cell_type": "code",
   "execution_count": 26,
   "id": "ab451cbf-b955-4e0c-98e7-902e38297e92",
   "metadata": {},
   "outputs": [
    {
     "name": "stdout",
     "output_type": "stream",
     "text": [
      "Top 20 words in Fake News:\n",
      "[('get', 5389), ('else', 5371), ('child', 5363), ('wear', 5346), ('listen', 5345), ('purpose', 5339), ('marriage', 5337), ('summer', 5331), ('relationship', 5328), ('report', 5327), ('thought', 5325), ('look', 5322), ('direction', 5315), ('inside', 5313), ('lose', 5313), ('factor', 5312), ('ability', 5311), ('wide', 5309), ('leave', 5308), ('size', 5308)]\n",
      "\n",
      "Top 20 words in Real News:\n",
      "[('new', 789), ('2018', 634), ('kardashian', 572), ('awards', 551), ('season', 540), ('says', 482), ('star', 472), ('first', 457), ('wedding', 441), ('baby', 434), ('kim', 410), ('best', 396), ('reveals', 393), ('watch', 371), ('prince', 358), ('2017', 347), ('video', 343), ('see', 334), ('meghan', 322), ('stars', 320)]\n"
     ]
    }
   ],
   "source": [
    "from collections import Counter\n",
    "\n",
    "def get_top_words(texts, n=20):\n",
    "    # Join all docs into one string → split into tokens\n",
    "    all_words = \" \".join(texts.dropna().astype(str)).split()\n",
    "    counter = Counter(all_words)\n",
    "    return counter.most_common(n)\n",
    "\n",
    "# Fake = label 0, Real = label 1\n",
    "top_fake = get_top_words(df[df['label']==0]['text_nostop'])\n",
    "top_real = get_top_words(df[df['label']==1]['text_nostop'])\n",
    "\n",
    "print(\"Top 20 words in Fake News:\")\n",
    "print(top_fake)\n",
    "\n",
    "print(\"\\nTop 20 words in Real News:\")\n",
    "print(top_real)\n"
   ]
  },
  {
   "cell_type": "code",
   "execution_count": 27,
   "id": "d4524094-d7b6-488e-a56c-e1ac0197f586",
   "metadata": {},
   "outputs": [
    {
     "data": {
      "image/png": "[encoded data removed]",
      "text/plain": [
       "<Figure size 1000x500 with 1 Axes>"
      ]
     },
     "metadata": {},
     "output_type": "display_data"
    },
    {
     "data": {
      "image/png": "[encoded data removed]",
      "text/plain": [
       "<Figure size 1000x500 with 1 Axes>"
      ]
     },
     "metadata": {},
     "output_type": "display_data"
    }
   ],
   "source": [
    "import matplotlib.pyplot as plt\n",
    "\n",
    "def plot_top_words(word_counts, title):\n",
    "    words, counts = zip(*word_counts)\n",
    "    plt.figure(figsize=(10,5))\n",
    "    plt.bar(words, counts)\n",
    "    plt.xticks(rotation=45)\n",
    "    plt.title(title)\n",
    "    plt.show()\n",
    "\n",
    "plot_top_words(top_fake, \"Top 20 Words in Fake News (No Stopwords)\")\n",
    "plot_top_words(top_real, \"Top 20 Words in Real News (No Stopwords)\")\n"
   ]
  },
  {
   "cell_type": "code",
   "execution_count": 28,
   "id": "6ad84b2b-146c-404c-ba3e-652db3044e1c",
   "metadata": {},
   "outputs": [
    {
     "name": "stdout",
     "output_type": "stream",
     "text": [
      "Top 20 Bigrams in Fake News:\n",
      "[('brad pitt', np.int64(303)), ('angelina jolie', np.int64(206)), ('jennifer aniston', np.int64(202)), ('selena gomez', np.int64(198)), ('kim kardashian', np.int64(195)), ('justin bieber', np.int64(168)), ('meghan markle', np.int64(149)), ('kylie jenner', np.int64(121)), ('blake shelton', np.int64(118)), ('gwen stefani', np.int64(111)), ('kanye west', np.int64(108)), ('taylor swift', np.int64(104)), ('katie holmes', np.int64(103)), ('prince harry', np.int64(90)), ('justin theroux', np.int64(84)), ('caitlyn jenner', np.int64(82)), ('ben affleck', np.int64(77)), ('despite report', np.int64(76)), ('khloe kardashian', np.int64(72)), ('robert pattinson', np.int64(71))]\n",
      "\n",
      "Top 20 Bigrams in Real News:\n",
      "[('kim kardashian', np.int64(258)), ('meghan markle', np.int64(203)), ('red carpet', np.int64(194)), ('prince harry', np.int64(162)), ('taylor swift', np.int64(158)), ('kylie jenner', np.int64(153)), ('selena gomez', np.int64(145)), ('khloe kardashian', np.int64(133)), ('net worth', np.int64(125)), ('music awards', np.int64(121)), ('real housewives', np.int64(116)), ('met gala', np.int64(109)), ('royal wedding', np.int64(96)), ('kate middleton', np.int64(92)), ('jennifer lopez', np.int64(91)), ('katy perry', np.int64(87)), ('justin bieber', np.int64(87)), ('chrissy teigen', np.int64(86)), ('choice awards', np.int64(85)), ('game thrones', np.int64(85))]\n"
     ]
    }
   ],
   "source": [
    "from sklearn.feature_extraction.text import CountVectorizer\n",
    "\n",
    "# Function to extract top n-grams\n",
    "def get_top_ngrams(corpus, ngram_range=(2,2), n=20):\n",
    "    vec = CountVectorizer(ngram_range=ngram_range, stop_words='english').fit(corpus.dropna().astype(str))\n",
    "    bag_of_words = vec.transform(corpus.dropna().astype(str))\n",
    "    sum_words = bag_of_words.sum(axis=0) \n",
    "    \n",
    "    words_freq = [(word, sum_words[0, idx]) for word, idx in vec.vocabulary_.items()]\n",
    "    sorted_words = sorted(words_freq, key=lambda x: x[1], reverse=True)\n",
    "    return sorted_words[:n]\n",
    "\n",
    "# Top bigrams in Fake News\n",
    "fake_bigrams = get_top_ngrams(df[df['label']==0]['text_clean'], (2,2))\n",
    "# Top bigrams in Real News\n",
    "real_bigrams = get_top_ngrams(df[df['label']==1]['text_clean'], (2,2))\n",
    "\n",
    "print(\"Top 20 Bigrams in Fake News:\")\n",
    "print(fake_bigrams)\n",
    "\n",
    "print(\"\\nTop 20 Bigrams in Real News:\")\n",
    "print(real_bigrams)\n"
   ]
  },
  {
   "cell_type": "code",
   "execution_count": 29,
   "id": "d51f889a-d463-4bdf-9817-17172f0a244b",
   "metadata": {},
   "outputs": [
    {
     "name": "stdout",
     "output_type": "stream",
     "text": [
      "Top 20 Trigrams in Fake News:\n",
      "[('prince harry meghan', np.int64(38)), ('katie holmes jamie', np.int64(34)), ('selena gomez justin', np.int64(34)), ('brad pitt angelina', np.int64(33)), ('kim kardashian kanye', np.int64(33)), ('jennifer aniston justin', np.int64(30)), ('harry meghan markle', np.int64(29)), ('gwen stefani blake', np.int64(27)), ('kardashian kanye west', np.int64(27)), ('holmes jamie foxx', np.int64(25)), ('pitt angelina jolie', np.int64(25)), ('justin bieber selena', np.int64(24)), ('jennifer lopez alex', np.int64(23)), ('stefani blake shelton', np.int64(22)), ('bieber selena gomez', np.int64(22)), ('brad pitt jennifer', np.int64(22)), ('gomez justin bieber', np.int64(21)), ('lopez alex rodriguez', np.int64(20)), ('aniston justin theroux', np.int64(20)), ('kylie jenner travis', np.int64(19))]\n",
      "\n",
      "Top 20 Trigrams in Real News:\n",
      "[('billboard music awards', np.int64(62)), ('prince harry meghan', np.int64(57)), ('peoples choice awards', np.int64(46)), ('harry meghan markle', np.int64(43)), ('jessie james decker', np.int64(36)), ('arie luyendyk jr', np.int64(35)), ('movie tv awards', np.int64(33)), ('mtv movie tv', np.int64(31)), ('american horror story', np.int64(30)), ('avengers infinity war', np.int64(29)), ('meghan markle prince', np.int64(28)), ('real housewives new', np.int64(27)), ('millie bobby brown', np.int64(24)), ('kim kardashian west', np.int64(24)), ('american music awards', np.int64(24)), ('tracee ellis ross', np.int64(23)), ('2018 sag awards', np.int64(22)), ('new york city', np.int64(22)), ('big little lies', np.int64(20)), ('housewives new york', np.int64(20))]\n"
     ]
    }
   ],
   "source": [
    "# Top trigrams in Fake News\n",
    "fake_trigrams = get_top_ngrams(df[df['label']==0]['text_clean'], (3,3))\n",
    "# Top trigrams in Real News\n",
    "real_trigrams = get_top_ngrams(df[df['label']==1]['text_clean'], (3,3))\n",
    "\n",
    "print(\"Top 20 Trigrams in Fake News:\")\n",
    "print(fake_trigrams)\n",
    "\n",
    "print(\"\\nTop 20 Trigrams in Real News:\")\n",
    "print(real_trigrams)"
   ]
  },
  {
   "cell_type": "code",
   "execution_count": 30,
   "id": "70cd1ffa-3ee9-4d4f-83ef-30403e8a2f89",
   "metadata": {},
   "outputs": [
    {
     "name": "stdout",
     "output_type": "stream",
     "text": [
      "Shape of BoW features: (41842, 5000)\n"
     ]
    }
   ],
   "source": [
    "from sklearn.feature_extraction.text import CountVectorizer\n",
    "\n",
    "# Convert text into Bag of Words features\n",
    "vectorizer = CountVectorizer(max_features=5000, ngram_range=(1,2))  # unigrams + bigrams\n",
    "X_bow = vectorizer.fit_transform(df['text_clean'])\n",
    "\n",
    "print(\"Shape of BoW features:\", X_bow.shape)\n"
   ]
  },
  {
   "cell_type": "code",
   "execution_count": 31,
   "id": "8bb2650c-4079-45bc-a25f-12e10ca61181",
   "metadata": {},
   "outputs": [
    {
     "name": "stdout",
     "output_type": "stream",
     "text": [
      "Shape of TF-IDF features: (41842, 5000)\n"
     ]
    }
   ],
   "source": [
    "from sklearn.feature_extraction.text import TfidfVectorizer\n",
    "\n",
    "# TF-IDF representation\n",
    "tfidf = TfidfVectorizer(max_features=5000, ngram_range=(1,2))\n",
    "X_tfidf = tfidf.fit_transform(df['text_clean'])\n",
    "\n",
    "print(\"Shape of TF-IDF features:\", X_tfidf.shape)\n"
   ]
  },
  {
   "cell_type": "code",
   "execution_count": 32,
   "id": "8ac2c7fb-66af-45b7-b27e-414954496f9e",
   "metadata": {},
   "outputs": [],
   "source": [
    "y = df['label']\n"
   ]
  },
  {
   "cell_type": "code",
   "execution_count": 33,
   "id": "11326949-ccc1-4055-b859-815437e234b2",
   "metadata": {},
   "outputs": [
    {
     "name": "stdout",
     "output_type": "stream",
     "text": [
      "Train shape: (33473, 5000)\n",
      "Test shape: (8369, 5000)\n"
     ]
    }
   ],
   "source": [
    "from sklearn.model_selection import train_test_split\n",
    "\n",
    "# Using TF-IDF features (better than BoW usually)\n",
    "X_train, X_test, y_train, y_test = train_test_split(X_tfidf, y, test_size=0.2, random_state=42, stratify=y)\n",
    "\n",
    "print(\"Train shape:\", X_train.shape)\n",
    "print(\"Test shape:\", X_test.shape)\n"
   ]
  },
  {
   "cell_type": "code",
   "execution_count": 34,
   "id": "41ef12c4-c8b7-49cc-8cc4-20ce2e7650cc",
   "metadata": {},
   "outputs": [
    {
     "name": "stdout",
     "output_type": "stream",
     "text": [
      "Logistic Regression Accuracy: 0.9116979328474131\n",
      "\n",
      "Classification Report:\n",
      "               precision    recall  f1-score   support\n",
      "\n",
      "           0       0.98      0.88      0.92      5065\n",
      "           1       0.84      0.97      0.90      3304\n",
      "\n",
      "    accuracy                           0.91      8369\n",
      "   macro avg       0.91      0.92      0.91      8369\n",
      "weighted avg       0.92      0.91      0.91      8369\n",
      "\n"
     ]
    }
   ],
   "source": [
    "from sklearn.linear_model import LogisticRegression\n",
    "from sklearn.metrics import classification_report, accuracy_score\n",
    "\n",
    "# Train Logistic Regression\n",
    "lr = LogisticRegression(max_iter=500)\n",
    "lr.fit(X_train, y_train)\n",
    "\n",
    "# Predictions\n",
    "y_pred_lr = lr.predict(X_test)\n",
    "\n",
    "# Evaluation\n",
    "print(\"Logistic Regression Accuracy:\", accuracy_score(y_test, y_pred_lr))\n",
    "print(\"\\nClassification Report:\\n\", classification_report(y_test, y_pred_lr))\n"
   ]
  },
  {
   "cell_type": "code",
   "execution_count": 35,
   "id": "d8bef0b7-d286-42fe-a84c-2e69bb6b4507",
   "metadata": {},
   "outputs": [
    {
     "name": "stdout",
     "output_type": "stream",
     "text": [
      "Naive Bayes Accuracy: 0.8648584060222249\n",
      "\n",
      "Classification Report:\n",
      "               precision    recall  f1-score   support\n",
      "\n",
      "           0       0.98      0.79      0.88      5065\n",
      "           1       0.75      0.98      0.85      3304\n",
      "\n",
      "    accuracy                           0.86      8369\n",
      "   macro avg       0.87      0.88      0.86      8369\n",
      "weighted avg       0.89      0.86      0.87      8369\n",
      "\n"
     ]
    }
   ],
   "source": [
    "from sklearn.naive_bayes import MultinomialNB\n",
    "\n",
    "# Train Naive Bayes\n",
    "nb = MultinomialNB()\n",
    "nb.fit(X_train, y_train)\n",
    "\n",
    "# Predictions\n",
    "y_pred_nb = nb.predict(X_test)\n",
    "\n",
    "# Evaluation\n",
    "print(\"Naive Bayes Accuracy:\", accuracy_score(y_test, y_pred_nb))\n",
    "print(\"\\nClassification Report:\\n\", classification_report(y_test, y_pred_nb))\n"
   ]
  },
  {
   "cell_type": "code",
   "execution_count": 36,
   "id": "91d9a3f6-44f4-4913-8630-ebff373c0f0d",
   "metadata": {},
   "outputs": [
    {
     "name": "stdout",
     "output_type": "stream",
     "text": [
      "Random Forest Accuracy: 0.9002270283187955\n",
      "\n",
      "Classification Report:\n",
      "               precision    recall  f1-score   support\n",
      "\n",
      "           0       0.96      0.87      0.91      5065\n",
      "           1       0.83      0.94      0.88      3304\n",
      "\n",
      "    accuracy                           0.90      8369\n",
      "   macro avg       0.89      0.91      0.90      8369\n",
      "weighted avg       0.91      0.90      0.90      8369\n",
      "\n"
     ]
    }
   ],
   "source": [
    "from sklearn.ensemble import RandomForestClassifier\n",
    "\n",
    "# Train Random Forest\n",
    "rf = RandomForestClassifier(n_estimators=200, random_state=42)\n",
    "rf.fit(X_train, y_train)\n",
    "\n",
    "# Predictions\n",
    "y_pred_rf = rf.predict(X_test)\n",
    "\n",
    "# Evaluation\n",
    "print(\"Random Forest Accuracy:\", accuracy_score(y_test, y_pred_rf))\n",
    "print(\"\\nClassification Report:\\n\", classification_report(y_test, y_pred_rf))\n"
   ]
  },
  {
   "cell_type": "code",
   "execution_count": null,
   "id": "473e5b51-ca4e-4c9b-964c-f16054aef6c2",
   "metadata": {},
   "outputs": [],
   "source": []
  },
  {
   "cell_type": "code",
   "execution_count": null,
   "id": "905a2d01-d21a-4dbf-8b0c-76a00a5e1d88",
   "metadata": {},
   "outputs": [],
   "source": []
  },
  {
   "cell_type": "code",
   "execution_count": null,
   "id": "aa2d1437-00ac-4662-9bd5-5cbe052488d6",
   "metadata": {},
   "outputs": [],
   "source": []
  },
  {
   "cell_type": "code",
   "execution_count": null,
   "id": "5a03956d-9d1d-4f1b-be6a-030541b9819d",
   "metadata": {},
   "outputs": [],
   "source": []
  },
  {
   "cell_type": "code",
   "execution_count": null,
   "id": "5adcd563-e842-4570-823a-46e87aa00bad",
   "metadata": {},
   "outputs": [],
   "source": []
  }
 ],
 "metadata": {
  "kernelspec": {
   "display_name": "Python 3 (ipykernel)",
   "language": "python",
   "name": "python3"
  },
  "language_info": {
   "codemirror_mode": {
    "name": "ipython",
    "version": 3
   },
   "file_extension": ".py",
   "mimetype": "text/x-python",
   "name": "python",
   "nbconvert_exporter": "python",
   "pygments_lexer": "ipython3",
   "version": "3.13.5"
  }
 },
 "nbformat": 4,
 "nbformat_minor": 5
}
